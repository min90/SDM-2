{
 "cells": [
  {
   "cell_type": "code",
   "execution_count": null,
   "metadata": {
    "collapsed": false
   },
   "outputs": [],
   "source": [
    "import requests\n",
    "from copy import deepcopy"
   ]
  },
  {
   "cell_type": "markdown",
   "metadata": {},
   "source": [
    "### Rate limit"
   ]
  },
  {
   "cell_type": "code",
   "execution_count": null,
   "metadata": {
    "collapsed": false
   },
   "outputs": [],
   "source": [
    "# Generate a token from personal settings on github: https://github.com/settings/tokens\n",
    "# Toggle on everything\n",
    "ENDPOINT = \"https://api.github.com\"\n",
    "TokenAMG = \"\"\n",
    "#TokenSD = \"9d4c4c0ce99d4ee2d6053788912d479e2a379cc7\"\n",
    "token = TokenAMG\n",
    "headers = {'Authorization': 'token %s' % token}"
   ]
  },
  {
   "cell_type": "code",
   "execution_count": null,
   "metadata": {
    "collapsed": false
   },
   "outputs": [],
   "source": [
    "requestRateLimit = requests.get(ENDPOINT + '/rate_limit', headers=headers)\n",
    "rInfo = requestRateLimit.json()\n",
    "print(rInfo)"
   ]
  },
  {
   "cell_type": "markdown",
   "metadata": {},
   "source": [
    "##### Fetch release, users & amount of commits"
   ]
  },
  {
   "cell_type": "code",
   "execution_count": null,
   "metadata": {
    "collapsed": false
   },
   "outputs": [],
   "source": [
    "page = 1\n",
    "projects = requests.get(ENDPOINT + '/orgs/facebook/repos?page='+str(page)+'&per_page=10', headers=headers).json()"
   ]
  },
  {
   "cell_type": "code",
   "execution_count": null,
   "metadata": {
    "collapsed": false
   },
   "outputs": [],
   "source": [
    "projects"
   ]
  },
  {
   "cell_type": "code",
   "execution_count": null,
   "metadata": {
    "collapsed": false
   },
   "outputs": [],
   "source": [
    "# Currently it needs to be changed. it is saving the same value of the weights.\n",
    "# Problem discovered: Currently it can only get 250 commits from each compare/release - meaning it will need to be increased\n",
    "# One solution is to find the last SHA and the iterate call over all commits till the last SHA is found.\n",
    "# http://stackoverflow.com/questions/14420076/github-v3-api-get-full-commit-list-for-large-comparison\n",
    "\n",
    "authors = {}\n",
    "max = 0\n",
    "min = 100000\n",
    "projects = [\n",
    "   {\n",
    "      \"full_name\": \"facebook/react\",\n",
    "      \"name\": \"react\"\n",
    "    },\n",
    "    {\n",
    "      \"full_name\": \"facebook/fresco\",\n",
    "      \"name\": \"fresco\"\n",
    "    },\n",
    "    {\n",
    "      \"full_name\": \"facebook/hhvm\",\n",
    "      \"name\": \"hhvm\"\n",
    "    },\n",
    "    {\n",
    "      \"full_name\": \"facebook/codemod\",\n",
    "      \"name\": \"codemod\"\n",
    "    },\n",
    "    {\n",
    "      \"full_name\": \"facebook/relay\",\n",
    "      \"name\": \"relay\"\n",
    "    },\n",
    "    {\n",
    "      \"full_name\": \"facebook/jest\",\n",
    "      \"name\": \"jest\"\n",
    "    },\n",
    "    {\n",
    "      \"full_name\": \"facebook/buck\",\n",
    "      \"name\": \"buck\"\n",
    "    },\n",
    "    {\n",
    "      \"full_name\": \"facebook/xctool\",\n",
    "      \"name\": \"xctool\"\n",
    "    },\n",
    "    {\n",
    "      \"full_name\": \"facebook/ios-snapshot-test-case\",\n",
    "      \"name\": \"ios-snapshot-test-case\"\n",
    "    },\n",
    "    {\n",
    "      \"full_name\": \"facebook/react-devtools\",\n",
    "      \"name\": \"react-devtools\"\n",
    "    }\n",
    "]\n",
    "for project in projects:\n",
    "    page = 1\n",
    "    contributors = requests.get(ENDPOINT + '/repos/'+ project.get('full_name') + '/stats/contributors', headers=headers).json()\n",
    "    print(len(contributors))\n",
    "    for contributor in contributors:\n",
    "        username = contributor.get('author').get('login')\n",
    "        weeks = contributor.get('weeks')\n",
    "        points = 0\n",
    "        for week in weeks:\n",
    "            points += week.get('a')\n",
    "            points += week.get('d')\n",
    "        if username in authors:\n",
    "            authors[username].append({\"project\": project.get('name'), \"value\": points})\n",
    "        else:\n",
    "            authors[username] = [{\"project\": project.get('name'), \"value\": points}]\n",
    "        if points > max:\n",
    "            max = points\n",
    "        if points < min:\n",
    "            min = points\n"
   ]
  },
  {
   "cell_type": "code",
   "execution_count": null,
   "metadata": {
    "collapsed": false
   },
   "outputs": [],
   "source": [
    "len(authors)"
   ]
  },
  {
   "cell_type": "code",
   "execution_count": null,
   "metadata": {
    "collapsed": false
   },
   "outputs": [],
   "source": []
  },
  {
   "cell_type": "code",
   "execution_count": null,
   "metadata": {
    "collapsed": false
   },
   "outputs": [],
   "source": []
  },
  {
   "cell_type": "code",
   "execution_count": null,
   "metadata": {
    "collapsed": false
   },
   "outputs": [],
   "source": []
  },
  {
   "cell_type": "code",
   "execution_count": null,
   "metadata": {
    "collapsed": false
   },
   "outputs": [],
   "source": []
  },
  {
   "cell_type": "code",
   "execution_count": null,
   "metadata": {
    "collapsed": false
   },
   "outputs": [],
   "source": []
  },
  {
   "cell_type": "code",
   "execution_count": null,
   "metadata": {
    "collapsed": false
   },
   "outputs": [],
   "source": []
  },
  {
   "cell_type": "code",
   "execution_count": null,
   "metadata": {
    "collapsed": false
   },
   "outputs": [],
   "source": [
    "#r = []\n",
    "#for release in rlist:\n",
    "#    tag = release.get('tag_name')\n",
    "#    request = requests.get('https://api.github.com/repos/PhilJay/MPAndroidChart/compare/'+tag+'...master')#\n",
    "#    r = request.json()\n",
    "    \n",
    "#print(r)"
   ]
  },
  {
   "cell_type": "code",
   "execution_count": null,
   "metadata": {
    "collapsed": false
   },
   "outputs": [],
   "source": []
  }
 ],
 "metadata": {
  "anaconda-cloud": {},
  "kernelspec": {
   "display_name": "Python 3",
   "language": "python",
   "name": "python3"
  },
  "language_info": {
   "codemirror_mode": {
    "name": "ipython",
    "version": 3
   },
   "file_extension": ".py",
   "mimetype": "text/x-python",
   "name": "python",
   "nbconvert_exporter": "python",
   "pygments_lexer": "ipython3",
   "version": "3.5.2"
  }
 },
 "nbformat": 4,
 "nbformat_minor": 0
}
