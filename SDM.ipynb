{
 "cells": [
  {
   "cell_type": "code",
   "execution_count": null,
   "metadata": {
    "collapsed": false
   },
   "outputs": [],
   "source": [
    "import requests\n",
    "from copy import deepcopy"
   ]
  },
  {
   "cell_type": "markdown",
   "metadata": {},
   "source": [
    "### Rate limit"
   ]
  },
  {
   "cell_type": "code",
   "execution_count": null,
   "metadata": {
    "collapsed": false
   },
   "outputs": [],
   "source": [
    "# Generate a token from personal settings on github: https://github.com/settings/tokens\n",
    "# Toggle on everything\n",
    "ENDPOINT = \"https://api.github.com\"\n",
    "TokenAMG = \"39733f9638f35d39e52152f2d49fd88e0c38afd7\"\n",
    "TokenSD = \"9d4c4c0ce99d4ee2d6053788912d479e2a379cc7\"\n",
    "token = TokenAMG\n",
    "headers = {'Authorization': 'token %s' % token}"
   ]
  },
  {
   "cell_type": "code",
   "execution_count": null,
   "metadata": {
    "collapsed": false
   },
   "outputs": [],
   "source": [
    "requestRateLimit = requests.get(ENDPOINT + '/rate_limit', headers=headers)\n",
    "rInfo = requestRateLimit.json()\n",
    "print(rInfo)"
   ]
  },
  {
   "cell_type": "markdown",
   "metadata": {},
   "source": [
    "##### Fetch release, users & amount of commits"
   ]
  },
  {
   "cell_type": "code",
   "execution_count": null,
   "metadata": {
    "collapsed": false
   },
   "outputs": [],
   "source": [
    "projects = requests.get(ENDPOINT + '/orgs/facebook/repos?page=1per_page=100', headers=headers).json()\n",
    "print(len(projects))"
   ]
  },
  {
   "cell_type": "code",
   "execution_count": null,
   "metadata": {
    "collapsed": false
   },
   "outputs": [],
   "source": [
    "projects"
   ]
  },
  {
   "cell_type": "code",
   "execution_count": null,
   "metadata": {
    "collapsed": false
   },
   "outputs": [],
   "source": [
    "# Currently it needs to be changed. it is saving the same value of the weights.\n",
    "# Problem discovered: Currently it can only get 250 commits from each compare/release - meaning it will need to be increased\n",
    "# One solution is to find the last SHA and the iterate call over all commits till the last SHA is found.\n",
    "# http://stackoverflow.com/questions/14420076/github-v3-api-get-full-commit-list-for-large-comparison\n",
    "\n",
    "authors = {}\n",
    "contributorPoints = {}\n",
    "for project in projects\n",
    "    contributors = requests.get(ENDPOINT + '/repos/'+ project.get('full_name') + '/stats/contributors', headers=headers).json()\n",
    "    for contributor in contributors:\n",
    "        contributorLogin = contributor.get('author').get('login')\n",
    "        weeks = contributor.get('weeks')\n",
    "\n",
    "        points = 0\n",
    "\n",
    "        for week in weeks:\n",
    "            points += week.get('a')\n",
    "            points += week.get('d')\n",
    "\n",
    "        contributorPoints[contributorLogin] = points\n",
    "\n",
    "\n",
    "contributorPoints   "
   ]
  },
  {
   "cell_type": "code",
   "execution_count": null,
   "metadata": {
    "collapsed": false
   },
   "outputs": [],
   "source": [
    "contributors"
   ]
  },
  {
   "cell_type": "code",
   "execution_count": null,
   "metadata": {
    "collapsed": false
   },
   "outputs": [],
   "source": [
    "contributorLogin   "
   ]
  },
  {
   "cell_type": "code",
   "execution_count": null,
   "metadata": {
    "collapsed": false
   },
   "outputs": [],
   "source": [
    "contributors"
   ]
  },
  {
   "cell_type": "code",
   "execution_count": null,
   "metadata": {
    "collapsed": false
   },
   "outputs": [],
   "source": []
  },
  {
   "cell_type": "code",
   "execution_count": null,
   "metadata": {
    "collapsed": false
   },
   "outputs": [],
   "source": [
    "nodesweightsrelease"
   ]
  },
  {
   "cell_type": "code",
   "execution_count": null,
   "metadata": {
    "collapsed": false
   },
   "outputs": [],
   "source": []
  },
  {
   "cell_type": "code",
   "execution_count": null,
   "metadata": {
    "collapsed": false
   },
   "outputs": [],
   "source": []
  },
  {
   "cell_type": "code",
   "execution_count": null,
   "metadata": {
    "collapsed": false
   },
   "outputs": [],
   "source": [
    "r = []\n",
    "for release in rlist:\n",
    "    tag = release.get('tag_name')\n",
    "    request = requests.get('https://api.github.com/repos/PhilJay/MPAndroidChart/compare/'+tag+'...master')\n",
    "    r = request.json()\n",
    "    \n",
    "print(r)"
   ]
  },
  {
   "cell_type": "code",
   "execution_count": null,
   "metadata": {
    "collapsed": false
   },
   "outputs": [],
   "source": []
  }
 ],
 "metadata": {
  "kernelspec": {
   "display_name": "Python 3",
   "language": "python",
   "name": "python3"
  },
  "language_info": {
   "codemirror_mode": {
    "name": "ipython",
    "version": 3
   },
   "file_extension": ".py",
   "mimetype": "text/x-python",
   "name": "python",
   "nbconvert_exporter": "python",
   "pygments_lexer": "ipython3",
   "version": "3.5.2"
  }
 },
 "nbformat": 4,
 "nbformat_minor": 0
}
