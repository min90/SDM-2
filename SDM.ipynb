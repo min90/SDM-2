{
 "cells": [
  {
   "cell_type": "code",
   "execution_count": null,
   "metadata": {
    "collapsed": false
   },
   "outputs": [],
   "source": [
    "import requests"
   ]
  },
  {
   "cell_type": "markdown",
   "metadata": {},
   "source": [
    "### Rate limit"
   ]
  },
  {
   "cell_type": "code",
   "execution_count": null,
   "metadata": {
    "collapsed": false
   },
   "outputs": [],
   "source": [
    "requestRateLimit = requests.get('https://api.github.com/rate_limit')\n",
    "rInfo = requestRateLimit.json()\n",
    "print(rInfo)"
   ]
  },
  {
   "cell_type": "code",
   "execution_count": null,
   "metadata": {
    "collapsed": false
   },
   "outputs": [],
   "source": [
    "\n",
    "\n",
    "maxElements = 100\n",
    "r = requests.get('https://api.github.com/repos/PhilJay/MPAndroidChart/releases?page=1&per_page='+str(maxElements))\n",
    "rlist = r.json()\n",
    "rlist"
   ]
  },
  {
   "cell_type": "code",
   "execution_count": null,
   "metadata": {
    "collapsed": false
   },
   "outputs": [],
   "source": [
    "release = rlist[1]\n",
    "tag = release.get('tag_name')\n",
    "request = requests.get('https://api.github.com/repos/PhilJay/MPAndroidChart/compare/'+tag+'...master')\n",
    "releaseInfo = request.json()"
   ]
  },
  {
   "cell_type": "code",
   "execution_count": null,
   "metadata": {
    "collapsed": false
   },
   "outputs": [],
   "source": [
    "\n",
    "#nodes = []\n",
    "weights = {}\n",
    "\n",
    "nodesweightsrelease = {}\n",
    "\n",
    "for release in rlist:\n",
    "    \n",
    "    \n",
    "    tag = release.get('tag_name')\n",
    "    \n",
    "    request = requests.get('https://api.github.com/repos/PhilJay/MPAndroidChart/compare/'+tag+'...master')\n",
    "    releaseInfo = request.json()\n",
    "    \n",
    "    releaseCommits = releaseInfo.get('commits')\n",
    "    \n",
    "    for node in releaseCommits:\n",
    "        \n",
    "        author = node.get('author')\n",
    "\n",
    "        if (author is not None):\n",
    "            username = author.get('login')\n",
    "            #nodes.append(username)\n",
    "            if username in weights is not None:\n",
    "                weights[username] = weights[username]+1\n",
    "            else:\n",
    "                weights[username] = 1\n",
    "    nodesweightsrelease[tag] = weights\n",
    "    weights.clear()\n"
   ]
  },
  {
   "cell_type": "code",
   "execution_count": null,
   "metadata": {
    "collapsed": false
   },
   "outputs": [],
   "source": [
    "nodesweightsrelease"
   ]
  },
  {
   "cell_type": "code",
   "execution_count": null,
   "metadata": {
    "collapsed": false
   },
   "outputs": [],
   "source": [
    "r = []\n",
    "for release in rlist:\n",
    "    tag = release.get('tag_name')\n",
    "    request = requests.get('https://api.github.com/repos/PhilJay/MPAndroidChart/compare/'+tag+'...master')\n",
    "    r = request.json()\n",
    "    \n",
    "print(r)"
   ]
  },
  {
   "cell_type": "code",
   "execution_count": null,
   "metadata": {
    "collapsed": false
   },
   "outputs": [],
   "source": []
  }
 ],
 "metadata": {
  "kernelspec": {
   "display_name": "Python 3",
   "language": "python",
   "name": "python3"
  },
  "language_info": {
   "codemirror_mode": {
    "name": "ipython",
    "version": 3
   },
   "file_extension": ".py",
   "mimetype": "text/x-python",
   "name": "python",
   "nbconvert_exporter": "python",
   "pygments_lexer": "ipython3",
   "version": "3.5.2"
  }
 },
 "nbformat": 4,
 "nbformat_minor": 0
}
