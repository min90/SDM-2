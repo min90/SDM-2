{
 "cells": [
  {
   "cell_type": "code",
   "execution_count": null,
   "metadata": {
    "collapsed": false
   },
   "outputs": [],
   "source": [
    "import requests\n",
    "from copy import deepcopy"
   ]
  },
  {
   "cell_type": "markdown",
   "metadata": {},
   "source": [
    "### Rate limit"
   ]
  },
  {
   "cell_type": "code",
   "execution_count": null,
   "metadata": {
    "collapsed": false
   },
   "outputs": [],
   "source": [
    "# Generate a token from personal settings on github: https://github.com/settings/tokens\n",
    "# Toggle on everything\n",
    "\n",
    "tokenSD = \"9d4c4c0ce99d4ee2d6053788912d479e2a379cc7\"\n",
    "token = \"9d4c4c0ce99d4ee2d6053788912d479e2a379cc7\"\n",
    "headers = {'Authorization': 'token %s' % token}"
   ]
  },
  {
   "cell_type": "code",
   "execution_count": null,
   "metadata": {
    "collapsed": false
   },
   "outputs": [],
   "source": [
    "requestRateLimit = requests.get('https://api.github.com/rate_limit', headers=headers)\n",
    "rInfo = requestRateLimit.json()\n",
    "print(rInfo)"
   ]
  },
  {
   "cell_type": "code",
   "execution_count": null,
   "metadata": {
    "collapsed": false
   },
   "outputs": [],
   "source": [
    "maxElements = 100\n",
    "r = requests.get('https://api.github.com/repos/PhilJay/MPAndroidChart/releases?page=1&per_page='+str(maxElements), headers=headers)\n",
    "rlist = r.json()\n",
    "rlist"
   ]
  },
  {
   "cell_type": "markdown",
   "metadata": {},
   "source": [
    "##### Fetch release, users & amount of commits"
   ]
  },
  {
   "cell_type": "code",
   "execution_count": null,
   "metadata": {
    "collapsed": false
   },
   "outputs": [],
   "source": [
    "# Currently it needs to be changed. it is saving the same value of the weights.\n",
    "# Problem discovered: Currently it can only get 250 commits from each compare/release - meaning it will need to be increased\n",
    "# One solution is to find the last SHA and the iterate call over all commits till the last SHA is found.\n",
    "# http://stackoverflow.com/questions/14420076/github-v3-api-get-full-commit-list-for-large-comparison\n",
    "\n",
    "\n",
    "#nodes = []\n",
    "\n",
    "maxCommits = 10000\n",
    "\n",
    "weights = {}\n",
    "nodesweightsrelease = {}\n",
    "\n",
    "    \n",
    "tag = lastReleaseElement.get('tag_name')\n",
    "\n",
    "releaseInfo = requests.get('https://api.github.com/repos/PhilJay/MPAndroidChart/compare/'+tag+'...master?page=1&per_page='+str(maxCommits), headers=headers).json()\n",
    "# Data example:\n",
    "# https://api.github.com/repos/PhilJay/MPAndroidChart/compare/v1.1.1...master\n",
    "\n",
    "releaseCommits = releaseInfo.get('commits')\n",
    "\n",
    "username = None\n",
    "\n",
    "for commits in releaseCommits:\n",
    "\n",
    "    author = commits.get('author')\n",
    "\n",
    "    if (author is not None):\n",
    "        username = author.get('login')\n",
    "        #nodes.append(username)\n",
    "        if username in weights is not None:\n",
    "            weights[username] = weights[username]+1\n",
    "        else:\n",
    "            weights[username] = 1\n",
    "\n",
    "\n",
    "nodesweightsrelease[tag] = deepcopy(weights)\n",
    "print(weights)\n",
    "weights.clear()\n",
    "    \n",
    "    \n"
   ]
  },
  {
   "cell_type": "code",
   "execution_count": null,
   "metadata": {
    "collapsed": false
   },
   "outputs": [],
   "source": [
    "# Currently it needs to be changed. it is saving the same value of the weights.\n",
    "# Problem discovered: Currently it can only get 250 commits from each compare/release - meaning it will need to be increased\n",
    "# One solution is to find the last SHA and the iterate call over all commits till the last SHA is found.\n",
    "# http://stackoverflow.com/questions/14420076/github-v3-api-get-full-commit-list-for-large-comparison\n",
    "\n",
    "\n",
    "contributorPoints = {}\n",
    "\n",
    "contributors = requests.get('https://api.github.com/repos/PhilJay/MPAndroidChart/stats/contributors', headers=headers).json()\n",
    "for contributor in contributors:\n",
    "\n",
    "    contributorLogin = contributor.get('author').get('login')\n",
    "    \n",
    "    \n",
    "    weeks = contributor.get('weeks')\n",
    "    \n",
    "    points = 0\n",
    "    \n",
    "    for week in weeks:\n",
    "        points += week.get('a')\n",
    "        points += week.get('d')\n",
    "    \n",
    "    contributorPoints[contributorLogin] = points\n",
    "\n",
    "\n",
    "contributorPoints   "
   ]
  },
  {
   "cell_type": "code",
   "execution_count": null,
   "metadata": {
    "collapsed": false
   },
   "outputs": [],
   "source": [
    "contributors"
   ]
  },
  {
   "cell_type": "code",
   "execution_count": null,
   "metadata": {
    "collapsed": false
   },
   "outputs": [],
   "source": [
    "contributorLogin   "
   ]
  },
  {
   "cell_type": "code",
   "execution_count": null,
   "metadata": {
    "collapsed": false
   },
   "outputs": [],
   "source": [
    "contributors"
   ]
  },
  {
   "cell_type": "code",
   "execution_count": null,
   "metadata": {
    "collapsed": false
   },
   "outputs": [],
   "source": []
  },
  {
   "cell_type": "code",
   "execution_count": null,
   "metadata": {
    "collapsed": false
   },
   "outputs": [],
   "source": [
    "nodesweightsrelease"
   ]
  },
  {
   "cell_type": "code",
   "execution_count": null,
   "metadata": {
    "collapsed": false
   },
   "outputs": [],
   "source": []
  },
  {
   "cell_type": "code",
   "execution_count": null,
   "metadata": {
    "collapsed": false
   },
   "outputs": [],
   "source": []
  },
  {
   "cell_type": "code",
   "execution_count": null,
   "metadata": {
    "collapsed": false
   },
   "outputs": [],
   "source": [
    "r = []\n",
    "for release in rlist:\n",
    "    tag = release.get('tag_name')\n",
    "    request = requests.get('https://api.github.com/repos/PhilJay/MPAndroidChart/compare/'+tag+'...master')\n",
    "    r = request.json()\n",
    "    \n",
    "print(r)"
   ]
  },
  {
   "cell_type": "code",
   "execution_count": null,
   "metadata": {
    "collapsed": false
   },
   "outputs": [],
   "source": []
  }
 ],
 "metadata": {
  "kernelspec": {
   "display_name": "Python 3",
   "language": "python",
   "name": "python3"
  },
  "language_info": {
   "codemirror_mode": {
    "name": "ipython",
    "version": 3
   },
   "file_extension": ".py",
   "mimetype": "text/x-python",
   "name": "python",
   "nbconvert_exporter": "python",
   "pygments_lexer": "ipython3",
   "version": "3.5.2"
  }
 },
 "nbformat": 4,
 "nbformat_minor": 0
}
