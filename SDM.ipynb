{
 "cells": [
  {
   "cell_type": "code",
   "execution_count": null,
   "metadata": {
    "collapsed": false
   },
   "outputs": [],
   "source": [
    "import requests\n",
    "\n",
    "maxElements = 100\n",
    "r = requests.get('https://api.github.com/repos/PhilJay/MPAndroidChart/releases?page=1&per_page='+maxElements)\n",
    "rlist = r.json()\n",
    "rlist"
   ]
  },
  {
   "cell_type": "code",
   "execution_count": null,
   "metadata": {
    "collapsed": false
   },
   "outputs": [],
   "source": [
    "release = rlist[1]\n",
    "tag = release.get('tag_name')\n",
    "request = requests.get('https://api.github.com/repos/PhilJay/MPAndroidChart/compare/'+tag+'...master')\n",
    "releaseInfo = request.json()"
   ]
  },
  {
   "cell_type": "code",
   "execution_count": null,
   "metadata": {
    "collapsed": false
   },
   "outputs": [],
   "source": [
    "releaseCommits = releaseInfo.get('commits')\n",
    "nodes = []\n",
    "weights = []\n",
    "for node in releaseCommits:\n",
    "    author = node.get('author')\n",
    "    if (author is not None):\n",
    "        username = author.get('login')\n",
    "        nodes.append(username)\n",
    "        \n",
    "nodes"
   ]
  },
  {
   "cell_type": "code",
   "execution_count": null,
   "metadata": {
    "collapsed": false
   },
   "outputs": [],
   "source": [
    "r = []\n",
    "for release in rlist:\n",
    "    tag = release.get('tag_name')\n",
    "    request = requests.get('https://api.github.com/repos/PhilJay/MPAndroidChart/compare/'+tag+'...master')\n",
    "    r = request.json()\n",
    "    \n",
    "print(r)"
   ]
  },
  {
   "cell_type": "code",
   "execution_count": null,
   "metadata": {
    "collapsed": false
   },
   "outputs": [],
   "source": []
  }
 ],
 "metadata": {
  "kernelspec": {
   "display_name": "Python 3",
   "language": "python",
   "name": "python3"
  },
  "language_info": {
   "codemirror_mode": {
    "name": "ipython",
    "version": 3
   },
   "file_extension": ".py",
   "mimetype": "text/x-python",
   "name": "python",
   "nbconvert_exporter": "python",
   "pygments_lexer": "ipython3",
   "version": "3.5.2"
  }
 },
 "nbformat": 4,
 "nbformat_minor": 0
}
